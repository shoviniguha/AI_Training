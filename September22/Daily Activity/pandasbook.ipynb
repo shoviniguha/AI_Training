{
 "cells": [
  {
   "cell_type": "code",
   "execution_count": 1,
   "id": "994c39b2-42c7-4f58-932a-d2c9a4ec7563",
   "metadata": {},
   "outputs": [],
   "source": [
    "import pandas as pd\n",
    "import numpy as np"
   ]
  },
  {
   "cell_type": "code",
   "execution_count": 2,
   "id": "3864181f-1983-4ea7-aa37-b736ce4887d2",
   "metadata": {},
   "outputs": [
    {
     "data": {
      "text/html": [
       "<div>\n",
       "<style scoped>\n",
       "    .dataframe tbody tr th:only-of-type {\n",
       "        vertical-align: middle;\n",
       "    }\n",
       "\n",
       "    .dataframe tbody tr th {\n",
       "        vertical-align: top;\n",
       "    }\n",
       "\n",
       "    .dataframe thead th {\n",
       "        text-align: right;\n",
       "    }\n",
       "</style>\n",
       "<table border=\"1\" class=\"dataframe\">\n",
       "  <thead>\n",
       "    <tr style=\"text-align: right;\">\n",
       "      <th></th>\n",
       "      <th>Name</th>\n",
       "      <th>Age</th>\n",
       "      <th>Course</th>\n",
       "      <th>Marks</th>\n",
       "    </tr>\n",
       "  </thead>\n",
       "  <tbody>\n",
       "    <tr>\n",
       "      <th>0</th>\n",
       "      <td>Rahul</td>\n",
       "      <td>21</td>\n",
       "      <td>AI</td>\n",
       "      <td>85</td>\n",
       "    </tr>\n",
       "    <tr>\n",
       "      <th>1</th>\n",
       "      <td>Priya</td>\n",
       "      <td>22</td>\n",
       "      <td>ML</td>\n",
       "      <td>90</td>\n",
       "    </tr>\n",
       "    <tr>\n",
       "      <th>2</th>\n",
       "      <td>Arjun</td>\n",
       "      <td>20</td>\n",
       "      <td>Data Science</td>\n",
       "      <td>78</td>\n",
       "    </tr>\n",
       "    <tr>\n",
       "      <th>3</th>\n",
       "      <td>Neha</td>\n",
       "      <td>23</td>\n",
       "      <td>AI</td>\n",
       "      <td>88</td>\n",
       "    </tr>\n",
       "    <tr>\n",
       "      <th>4</th>\n",
       "      <td>Vikram</td>\n",
       "      <td>21</td>\n",
       "      <td>ML</td>\n",
       "      <td>95</td>\n",
       "    </tr>\n",
       "  </tbody>\n",
       "</table>\n",
       "</div>"
      ],
      "text/plain": [
       "     Name  Age        Course  Marks\n",
       "0   Rahul   21            AI     85\n",
       "1   Priya   22            ML     90\n",
       "2   Arjun   20  Data Science     78\n",
       "3    Neha   23            AI     88\n",
       "4  Vikram   21            ML     95"
      ]
     },
     "execution_count": 2,
     "metadata": {},
     "output_type": "execute_result"
    }
   ],
   "source": [
    "data = {\n",
    "    \"Name\": [\"Rahul\", \"Priya\", \"Arjun\", \"Neha\", \"Vikram\"],\n",
    "    \"Age\": [21, 22, 20, 23, 21],\n",
    "    \"Course\": [\"AI\", \"ML\", \"Data Science\", \"AI\", \"ML\"],\n",
    "    \"Marks\": [85, 90, 78, 88, 95]\n",
    "}\n",
    "df=pd.DataFrame(data)\n",
    "df"
   ]
  },
  {
   "cell_type": "code",
   "execution_count": 3,
   "id": "f016ad89-e317-4da8-a589-3c28bcc93850",
   "metadata": {},
   "outputs": [
    {
     "name": "stdout",
     "output_type": "stream",
     "text": [
      "0     Rahul\n",
      "1     Priya\n",
      "2     Arjun\n",
      "3      Neha\n",
      "4    Vikram\n",
      "Name: Name, dtype: object\n",
      "     Name  Marks\n",
      "0   Rahul     85\n",
      "1   Priya     90\n",
      "2   Arjun     78\n",
      "3    Neha     88\n",
      "4  Vikram     95\n",
      "Name      Rahul\n",
      "Age          21\n",
      "Course       AI\n",
      "Marks        85\n",
      "Name: 0, dtype: object\n",
      "78\n"
     ]
    }
   ],
   "source": [
    "print(df['Name'])   #selecting a column\n",
    "print(df[['Name','Marks']])   #selecting two columns\n",
    "print(df.iloc[0])   #first row\n",
    "print(df.loc[2,'Marks'])   #value at row2 and column marks"
   ]
  },
  {
   "cell_type": "code",
   "execution_count": 4,
   "id": "1f0302cb-a8c5-4a86-aed4-4d4eb162a75a",
   "metadata": {},
   "outputs": [
    {
     "name": "stdout",
     "output_type": "stream",
     "text": [
      "     Name  Age Course  Marks\n",
      "1   Priya   22     ML     90\n",
      "3    Neha   23     AI     88\n",
      "4  Vikram   21     ML     95\n"
     ]
    }
   ],
   "source": [
    "high_scorers=df[df['Marks']>85]\n",
    "print(high_scorers)"
   ]
  },
  {
   "cell_type": "code",
   "execution_count": 5,
   "id": "10f9e323-e2a4-48c5-ade2-16ceb4ecb5fd",
   "metadata": {},
   "outputs": [
    {
     "name": "stdout",
     "output_type": "stream",
     "text": [
      "     Name  Age        Course  Marks Result\n",
      "0   Rahul   21            AI     85   Pass\n",
      "1   Priya   22            ML     90   Pass\n",
      "2   Arjun   20  Data Science     78   Fail\n",
      "3    Neha   23            AI     88   Pass\n",
      "4  Vikram   21            ML     95   Pass\n"
     ]
    }
   ],
   "source": [
    "df['Result']=np.where(df['Marks']>80,'Pass','Fail')\n",
    "print(df)"
   ]
  },
  {
   "cell_type": "code",
   "execution_count": 6,
   "id": "4b9655d0-ed4a-4d6c-8d2b-ff043c6de090",
   "metadata": {},
   "outputs": [
    {
     "name": "stdout",
     "output_type": "stream",
     "text": [
      "     Name  Age        Course  Marks Result\n",
      "0   Rahul   21            AI     85   Pass\n",
      "1   Priya   22            ML     90   Pass\n",
      "2   Arjun   20  Data Science     78   Fail\n",
      "3    Neha   23            AI     92   Pass\n",
      "4  Vikram   21            ML     95   Pass\n"
     ]
    }
   ],
   "source": [
    "df.loc[df['Name']=='Neha','Marks']=92\n",
    "print(df)"
   ]
  },
  {
   "cell_type": "code",
   "execution_count": 7,
   "id": "7d544b25-46bb-46a5-aaf3-6d0b0df2274c",
   "metadata": {},
   "outputs": [
    {
     "name": "stdout",
     "output_type": "stream",
     "text": [
      "Requirement already satisfied: matplotlib in c:\\users\\user1\\pycharmprojects\\pythonproject1\\.venv\\lib\\site-packages (3.10.6)\n",
      "Requirement already satisfied: contourpy>=1.0.1 in c:\\users\\user1\\pycharmprojects\\pythonproject1\\.venv\\lib\\site-packages (from matplotlib) (1.3.3)\n",
      "Requirement already satisfied: cycler>=0.10 in c:\\users\\user1\\pycharmprojects\\pythonproject1\\.venv\\lib\\site-packages (from matplotlib) (0.12.1)\n",
      "Requirement already satisfied: fonttools>=4.22.0 in c:\\users\\user1\\pycharmprojects\\pythonproject1\\.venv\\lib\\site-packages (from matplotlib) (4.60.0)\n",
      "Requirement already satisfied: kiwisolver>=1.3.1 in c:\\users\\user1\\pycharmprojects\\pythonproject1\\.venv\\lib\\site-packages (from matplotlib) (1.4.9)\n",
      "Requirement already satisfied: numpy>=1.23 in c:\\users\\user1\\pycharmprojects\\pythonproject1\\.venv\\lib\\site-packages (from matplotlib) (2.3.3)\n",
      "Requirement already satisfied: packaging>=20.0 in c:\\users\\user1\\pycharmprojects\\pythonproject1\\.venv\\lib\\site-packages (from matplotlib) (25.0)\n",
      "Requirement already satisfied: pillow>=8 in c:\\users\\user1\\pycharmprojects\\pythonproject1\\.venv\\lib\\site-packages (from matplotlib) (11.3.0)\n",
      "Requirement already satisfied: pyparsing>=2.3.1 in c:\\users\\user1\\pycharmprojects\\pythonproject1\\.venv\\lib\\site-packages (from matplotlib) (3.2.5)\n",
      "Requirement already satisfied: python-dateutil>=2.7 in c:\\users\\user1\\pycharmprojects\\pythonproject1\\.venv\\lib\\site-packages (from matplotlib) (2.9.0.post0)\n",
      "Requirement already satisfied: six>=1.5 in c:\\users\\user1\\pycharmprojects\\pythonproject1\\.venv\\lib\\site-packages (from python-dateutil>=2.7->matplotlib) (1.17.0)\n",
      "Note: you may need to restart the kernel to use updated packages.\n"
     ]
    }
   ],
   "source": [
    "pip install matplotlib"
   ]
  },
  {
   "cell_type": "code",
   "execution_count": 9,
   "id": "a074d82b-c213-4ea8-9df1-a710b5566606",
   "metadata": {},
   "outputs": [],
   "source": [
    "import matplotlib.pyplot as plt"
   ]
  },
  {
   "cell_type": "code",
   "execution_count": 10,
   "id": "de6fcdfc-ebe1-4807-94e4-98dbbadd3e48",
   "metadata": {},
   "outputs": [
    {
     "data": {
      "image/png": "[encoded data removed]",
      "text/plain": [
       "<Figure size 640x480 with 1 Axes>"
      ]
     },
     "metadata": {},
     "output_type": "display_data"
    }
   ],
   "source": [
    "#group by course and calculate average marks\n",
    "avg_marks=df.groupby('Course')['Marks'].mean()\n",
    "\n",
    "avg_marks.plot(kind='bar',color='yellow',edgecolor='red')\n",
    "plt.title(\"Average Marks by Course- Shovini\")\n",
    "plt.xlabel('Course')\n",
    "plt.ylabel('Average Marks')\n",
    "plt.xticks(rotation=45)\n",
    "plt.show()\n"
   ]
  }
 ],
 "metadata": {
  "kernelspec": {
   "display_name": "Python 3 (ipykernel)",
   "language": "python",
   "name": "python3"
  },
  "language_info": {
   "codemirror_mode": {
    "name": "ipython",
    "version": 3
   },
   "file_extension": ".py",
   "mimetype": "text/x-python",
   "name": "python",
   "nbconvert_exporter": "python",
   "pygments_lexer": "ipython3",
   "version": "3.11.0"
  }
 },
 "nbformat": 4,
 "nbformat_minor": 5
}
